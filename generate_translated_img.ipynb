{
 "cells": [
  {
   "cell_type": "code",
   "execution_count": 31,
   "metadata": {},
   "outputs": [
    {
     "name": "stdout",
     "output_type": "stream",
     "text": [
      "[Errno 2] No such file or directory: 'pytorch-CycleGAN-and-pix2pix'\n",
      "/Users/pomvrp/Documents/NTU AI Courses/AI6121 computer vision/18 Nov Project/cycada_release/cyclegan/pytorch-CycleGAN-and-pix2pix\n",
      "LICENSE                       \u001b[34mpretrained_models\u001b[m\u001b[m\n",
      "README.md                     requirements.txt\n",
      "\u001b[34mcheckpoints\u001b[m\u001b[m                   \u001b[34mresults\u001b[m\u001b[m\n",
      "\u001b[34mdata\u001b[m\u001b[m                          \u001b[34mscripts\u001b[m\u001b[m\n",
      "\u001b[34mdatasets\u001b[m\u001b[m                      test.py\n",
      "environment.yml               test_cycada.sh\n",
      "generate_translated_img.ipynb \u001b[31mtest_icdar2013to2015.sh\u001b[m\u001b[m\n",
      "\u001b[34mimgs\u001b[m\u001b[m                          train.py\n",
      "\u001b[34mmodels\u001b[m\u001b[m                        train_cycada.sh\n",
      "\u001b[34moptions\u001b[m\u001b[m                       \u001b[34mutil\u001b[m\u001b[m\n"
     ]
    }
   ],
   "source": [
    "%cd pytorch-CycleGAN-and-pix2pix\n",
    "!ls"
   ]
  },
  {
   "cell_type": "code",
   "execution_count": 8,
   "metadata": {},
   "outputs": [],
   "source": [
    "!chmod +x test_icdar2013to2015.sh\n"
   ]
  },
  {
   "cell_type": "code",
   "execution_count": 12,
   "metadata": {},
   "outputs": [
    {
     "name": "stdout",
     "output_type": "stream",
     "text": [
      "LICENSE                       \u001b[34mpretrained_models\u001b[m\u001b[m\n",
      "README.md                     requirements.txt\n",
      "\u001b[34mcheckpoints\u001b[m\u001b[m                   \u001b[34mscripts\u001b[m\u001b[m\n",
      "\u001b[34mdata\u001b[m\u001b[m                          test.py\n",
      "\u001b[34mdatasets\u001b[m\u001b[m                      test_cycada.sh\n",
      "environment.yml               \u001b[31mtest_icdar2013to2015.sh\u001b[m\u001b[m\n",
      "generate_translated_img.ipynb train.py\n",
      "\u001b[34mimgs\u001b[m\u001b[m                          train_cycada.sh\n",
      "\u001b[34mmodels\u001b[m\u001b[m                        \u001b[34mutil\u001b[m\u001b[m\n",
      "\u001b[34moptions\u001b[m\u001b[m\n"
     ]
    }
   ],
   "source": [
    "!ls"
   ]
  },
  {
   "cell_type": "code",
   "execution_count": null,
   "metadata": {},
   "outputs": [],
   "source": [
    "import subprocess\n",
    "\n",
    "# Path to the Bash script\n",
    "script_path = '/Users/pomvrp/Documents/NTU AI Courses/AI6121 computer vision/18 Nov Project/cycada_release/cyclegan/pytorch-CycleGAN-and-pix2pix/test_icdar2013to2015.sh'\n",
    "\n",
    "# Run the Bash script\n",
    "result = subprocess.run([script_path], stdout=subprocess.PIPE, stderr=subprocess.PIPE, text=True)\n",
    "\n",
    "# Print the output and error (if any)\n",
    "print(\"Output:\", result.stdout)\n",
    "print(\"Error:\", result.stderr)"
   ]
  },
  {
   "cell_type": "code",
   "execution_count": null,
   "metadata": {},
   "outputs": [],
   "source": [
    "!python test.py --name ICDAR2013to2015_noIdt-each-epoch \\\n",
    "    --resize_or_crop=None \\\n",
    "    --loadSize=32 --fineSize=32 --which_model_netD n_layers --n_layers_D 3 \\\n",
    "    --model cycle_gan \\\n",
    "    --no_flip --batchSize 100 \\\n",
    "    --dataroot ../../FY/cyclegan_data/ICDAR2013_2015 \\\n",
    "    --which_direction AtoB \\\n",
    "    --phase train \\\n",
    "    --how_many 10 \\\n",
    "    --which_epoch 2 --gpu_ids -1"
   ]
  },
  {
   "cell_type": "code",
   "execution_count": 41,
   "metadata": {},
   "outputs": [
    {
     "name": "stdout",
     "output_type": "stream",
     "text": [
      "Copied ../pytorch-CycleGAN-and-pix2pix/results/ICDAR2013to2015_noIdt-each-epoch/train_2/images/0_fake_B.png to ../../FY/icdar2013toicdar2015/train/images/0.png\n",
      "Copied ../pytorch-CycleGAN-and-pix2pix/results/ICDAR2013to2015_noIdt-each-epoch/train_2/images/100_fake_B.png to ../../FY/icdar2013toicdar2015/train/images/100.png\n",
      "Copied ../pytorch-CycleGAN-and-pix2pix/results/ICDAR2013to2015_noIdt-each-epoch/train_2/images/101_fake_B.png to ../../FY/icdar2013toicdar2015/train/images/101.png\n",
      "Copied ../pytorch-CycleGAN-and-pix2pix/results/ICDAR2013to2015_noIdt-each-epoch/train_2/images/102_fake_B.png to ../../FY/icdar2013toicdar2015/train/images/102.png\n",
      "Copied ../pytorch-CycleGAN-and-pix2pix/results/ICDAR2013to2015_noIdt-each-epoch/train_2/images/103_fake_B.png to ../../FY/icdar2013toicdar2015/train/images/103.png\n",
      "Copied ../pytorch-CycleGAN-and-pix2pix/results/ICDAR2013to2015_noIdt-each-epoch/train_2/images/104_fake_B.png to ../../FY/icdar2013toicdar2015/train/images/104.png\n",
      "Copied ../pytorch-CycleGAN-and-pix2pix/results/ICDAR2013to2015_noIdt-each-epoch/train_2/images/105_fake_B.png to ../../FY/icdar2013toicdar2015/train/images/105.png\n",
      "Copied ../pytorch-CycleGAN-and-pix2pix/results/ICDAR2013to2015_noIdt-each-epoch/train_2/images/106_fake_B.png to ../../FY/icdar2013toicdar2015/train/images/106.png\n",
      "Copied ../pytorch-CycleGAN-and-pix2pix/results/ICDAR2013to2015_noIdt-each-epoch/train_2/images/10_fake_B.png to ../../FY/icdar2013toicdar2015/train/images/10.png\n",
      "Copied ../pytorch-CycleGAN-and-pix2pix/results/ICDAR2013to2015_noIdt-each-epoch/train_2/images/1_fake_B.png to ../../FY/icdar2013toicdar2015/train/images/1.png\n",
      "All 'fake_B' images have been copied and renamed.\n"
     ]
    },
    {
     "ename": "IsADirectoryError",
     "evalue": "[Errno 21] Is a directory: '../../FY/icdar2013toicdar2015/train/'",
     "output_type": "error",
     "traceback": [
      "\u001b[0;31m---------------------------------------------------------------------------\u001b[0m",
      "\u001b[0;31mIsADirectoryError\u001b[0m                         Traceback (most recent call last)",
      "\u001b[0;32m/var/folders/vn/mx6fds1x6r96ftmr8p5cylwh0000gn/T/ipykernel_41198/2164344664.py\u001b[0m in \u001b[0;36m<module>\u001b[0;34m\u001b[0m\n\u001b[1;32m     31\u001b[0m \u001b[0;34m\u001b[0m\u001b[0m\n\u001b[1;32m     32\u001b[0m \u001b[0;31m# Copy the file\u001b[0m\u001b[0;34m\u001b[0m\u001b[0;34m\u001b[0m\u001b[0;34m\u001b[0m\u001b[0m\n\u001b[0;32m---> 33\u001b[0;31m \u001b[0mshutil\u001b[0m\u001b[0;34m.\u001b[0m\u001b[0mcopyfile\u001b[0m\u001b[0;34m(\u001b[0m\u001b[0msource_file\u001b[0m\u001b[0;34m,\u001b[0m \u001b[0mdestination_folder\u001b[0m\u001b[0;34m)\u001b[0m\u001b[0;34m\u001b[0m\u001b[0;34m\u001b[0m\u001b[0m\n\u001b[0m\u001b[1;32m     34\u001b[0m \u001b[0;34m\u001b[0m\u001b[0m\n\u001b[1;32m     35\u001b[0m \u001b[0mprint\u001b[0m\u001b[0;34m(\u001b[0m\u001b[0;34mf\"Folder copied from {source_file} to {destination_folder}\"\u001b[0m\u001b[0;34m)\u001b[0m\u001b[0;34m\u001b[0m\u001b[0;34m\u001b[0m\u001b[0m\n",
      "\u001b[0;32m/usr/local/Cellar/python@3.7/3.7.14/Frameworks/Python.framework/Versions/3.7/lib/python3.7/shutil.py\u001b[0m in \u001b[0;36mcopyfile\u001b[0;34m(src, dst, follow_symlinks)\u001b[0m\n\u001b[1;32m    119\u001b[0m     \u001b[0;32melse\u001b[0m\u001b[0;34m:\u001b[0m\u001b[0;34m\u001b[0m\u001b[0;34m\u001b[0m\u001b[0m\n\u001b[1;32m    120\u001b[0m         \u001b[0;32mwith\u001b[0m \u001b[0mopen\u001b[0m\u001b[0;34m(\u001b[0m\u001b[0msrc\u001b[0m\u001b[0;34m,\u001b[0m \u001b[0;34m'rb'\u001b[0m\u001b[0;34m)\u001b[0m \u001b[0;32mas\u001b[0m \u001b[0mfsrc\u001b[0m\u001b[0;34m:\u001b[0m\u001b[0;34m\u001b[0m\u001b[0;34m\u001b[0m\u001b[0m\n\u001b[0;32m--> 121\u001b[0;31m             \u001b[0;32mwith\u001b[0m \u001b[0mopen\u001b[0m\u001b[0;34m(\u001b[0m\u001b[0mdst\u001b[0m\u001b[0;34m,\u001b[0m \u001b[0;34m'wb'\u001b[0m\u001b[0;34m)\u001b[0m \u001b[0;32mas\u001b[0m \u001b[0mfdst\u001b[0m\u001b[0;34m:\u001b[0m\u001b[0;34m\u001b[0m\u001b[0;34m\u001b[0m\u001b[0m\n\u001b[0m\u001b[1;32m    122\u001b[0m                 \u001b[0mcopyfileobj\u001b[0m\u001b[0;34m(\u001b[0m\u001b[0mfsrc\u001b[0m\u001b[0;34m,\u001b[0m \u001b[0mfdst\u001b[0m\u001b[0;34m)\u001b[0m\u001b[0;34m\u001b[0m\u001b[0;34m\u001b[0m\u001b[0m\n\u001b[1;32m    123\u001b[0m     \u001b[0;32mreturn\u001b[0m \u001b[0mdst\u001b[0m\u001b[0;34m\u001b[0m\u001b[0;34m\u001b[0m\u001b[0m\n",
      "\u001b[0;31mIsADirectoryError\u001b[0m: [Errno 21] Is a directory: '../../FY/icdar2013toicdar2015/train/'"
     ]
    }
   ],
   "source": [
    "import os\n",
    "import shutil\n",
    "\n",
    "# Source and destination directories\n",
    "src_dir = '../pytorch-CycleGAN-and-pix2pix/results/ICDAR2013to2015_noIdt-each-epoch/train_2/images'\n",
    "dest_dir = '../../FY/icdar2013toicdar2015/train/images'\n",
    "\n",
    "# Create the destination directory if it does not exist\n",
    "os.makedirs(dest_dir, exist_ok=True)\n",
    "\n",
    "# Iterate through the files in the source directory\n",
    "for filename in sorted(os.listdir(src_dir)):\n",
    "    # Check if the file is a 'fake_B' image\n",
    "    if filename.endswith('fake_B.png'):\n",
    "        src_path = os.path.join(src_dir, filename)\n",
    "\n",
    "        # Extract the leading number from the filename (e.g., '106' from '106_fake_B.png')\n",
    "        file_number = filename.split('_')[0]\n",
    "\n",
    "        # Define the destination path for the image\n",
    "        dest_path = os.path.join(dest_dir, f'{file_number}.png')\n",
    "\n",
    "        # Copy the image to the destination\n",
    "        shutil.copyfile(src_path, dest_path)\n",
    "        print(f\"Copied {src_path} to {dest_path}\")\n",
    "\n",
    "print(\"All 'fake_B' images have been copied and renamed.\")\n",
    "\n",
    "source_file = '../../FY/icdar2013/train/labels.txt'\n",
    "destination_folder = '../../FY/icdar2013toicdar2015/train/'\n",
    "\n",
    "# Create the destination folder if it doesn't exist\n",
    "os.makedirs(destination_folder, exist_ok=True)\n",
    "\n",
    "# Specify the destination file path\n",
    "destination_file = os.path.join(destination_folder, 'labels.txt')\n",
    "\n",
    "# Copy the file\n",
    "shutil.copyfile(source_file, destination_file)\n",
    "\n",
    "print(f\"File copied from {source_file} to {destination_file}\")\n"
   ]
  }
 ],
 "metadata": {
  "kernelspec": {
   "display_name": ".venv",
   "language": "python",
   "name": "python3"
  },
  "language_info": {
   "codemirror_mode": {
    "name": "ipython",
    "version": 3
   },
   "file_extension": ".py",
   "mimetype": "text/x-python",
   "name": "python",
   "nbconvert_exporter": "python",
   "pygments_lexer": "ipython3",
   "version": "3.7.14"
  }
 },
 "nbformat": 4,
 "nbformat_minor": 2
}
